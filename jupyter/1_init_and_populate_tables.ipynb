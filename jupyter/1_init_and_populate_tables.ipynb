{
 "cells": [
  {
   "cell_type": "code",
   "execution_count": 1,
   "metadata": {},
   "outputs": [],
   "source": [
    "import multiprocessing\n",
    "import time\n",
    "\n",
    "import sys\n",
    "sys.path.append('../python/')\n",
    "import cfg\n",
    "import db\n",
    "import fio\n",
    "import hmt\n",
    "import lex"
   ]
  },
  {
   "cell_type": "code",
   "execution_count": 2,
   "metadata": {},
   "outputs": [],
   "source": [
    "corpus_id = cfg.CORPUS_ID_HMT"
   ]
  },
  {
   "cell_type": "code",
   "execution_count": 3,
   "metadata": {},
   "outputs": [],
   "source": [
    "# initialize the database, extract meta-data from logs/transcriptions\n",
    "db.connect(corpus_id)\n",
    "# careful, this DELETES ALL DB TABLES\n",
    "db.executescript(cfg.SQL_PATH, cfg.SQL_INIT_FNAME_HMT)\n",
    "db.commit()\n",
    "\n",
    "hmt.populate_speakers()\n",
    "hmt.populate_sessions()\n",
    "hmt.populate_tasks()\n",
    "hmt.populate_turns_and_chunks()\n",
    "db.set_turn_index_ses()\n",
    "db.commit()\n",
    "db.close()"
   ]
  },
  {
   "cell_type": "code",
   "execution_count": 4,
   "metadata": {},
   "outputs": [
    {
     "name": "stdout",
     "output_type": "stream",
     "text": [
      "0 Thu Apr  7 14:49:56 2022\n",
      "\n",
      "14 Thu Apr  7 15:11:35 2022\n",
      "\n",
      "28 Thu Apr  7 15:29:17 2022\n",
      "\n",
      "done! Thu Apr  7 15:41:06 2022\n",
      "\n"
     ]
    }
   ],
   "source": [
    "# extract features for all chunks\n",
    "# (takes about an hour on my machine)\n",
    "\n",
    "pool = multiprocessing.Pool(7)\n",
    "\n",
    "db.connect(corpus_id)\n",
    "task_lst = db.get_tasks()\n",
    "db.close()\n",
    "\n",
    "start = 0\n",
    "step = 14\n",
    "\n",
    "for i in range(start, len(task_lst), step):\n",
    "    print('%d %s\\n' % (i, time.ctime()))\n",
    "    args = [task_lst[j] for j in range(i, min(i+step, len(task_lst)))]\n",
    "    results = pool.starmap(hmt.extract_features, args)\n",
    "print('done! %s\\n' % time.ctime())"
   ]
  },
  {
   "cell_type": "code",
   "execution_count": 5,
   "metadata": {},
   "outputs": [],
   "source": [
    "# run cleanup (set all features null for all chunks with any null)\n",
    "db.connect(corpus_id)\n",
    "db.executescript(cfg.SQL_PATH, cfg.SQL_CU_FNAME)\n",
    "db.commit()\n",
    "db.close()"
   ]
  },
  {
   "cell_type": "code",
   "execution_count": 6,
   "metadata": {},
   "outputs": [],
   "source": [
    "# make timestamps continuous per session (run this only once!)\n",
    "db.connect(corpus_id)\n",
    "db.executescript(cfg.SQL_PATH, cfg.SQL_FT_FNAME)\n",
    "db.commit()\n",
    "db.close()"
   ]
  },
  {
   "cell_type": "code",
   "execution_count": 7,
   "metadata": {},
   "outputs": [],
   "source": [
    "# create auxiliary table chunk_pairs\n",
    "db.connect(corpus_id)\n",
    "db.executescript(cfg.SQL_PATH, cfg.SQL_AT_FNAME)\n",
    "db.commit()\n",
    "db.close()"
   ]
  },
  {
   "cell_type": "code",
   "execution_count": 8,
   "metadata": {},
   "outputs": [],
   "source": [
    "# compute auxiliary files for lex measures\n",
    "db.connect(corpus_id)\n",
    "# load default lemmatizer\n",
    "_, _, lem = lex.load_lex_w_lem(cfg.LEX_LEM_FNAME)\n",
    "# store lemmatized tokens & language models for sessions and tasks \n",
    "# (tasks have sufficient length to be considered separately)\n",
    "fio.store_tokens(corpus_id, None, lem)\n",
    "lex.store_lms_ngrams(corpus_id)\n",
    "db.close()"
   ]
  }
 ],
 "metadata": {
  "kernelspec": {
   "display_name": "Python 3",
   "language": "python",
   "name": "python3"
  },
  "language_info": {
   "codemirror_mode": {
    "name": "ipython",
    "version": 3
   },
   "file_extension": ".py",
   "mimetype": "text/x-python",
   "name": "python",
   "nbconvert_exporter": "python",
   "pygments_lexer": "ipython3",
   "version": "3.6.9"
  }
 },
 "nbformat": 4,
 "nbformat_minor": 4
}
