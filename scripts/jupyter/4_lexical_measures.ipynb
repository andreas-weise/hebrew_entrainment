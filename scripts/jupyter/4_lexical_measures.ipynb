{
 "cells": [
  {
   "cell_type": "code",
   "execution_count": 1,
   "metadata": {},
   "outputs": [],
   "source": [
    "import sqlite3\n",
    "import sys\n",
    "sys.path.append('../python/')\n",
    "from measures import loadLex, loadSpatialLex, loadMFTypes\n",
    "from measures import distSim, KLDSim\n",
    "from analysis import testSigF, testSigGP, compareGP\n",
    "from analysis import compareG_KLD, compareR_KLD"
   ]
  },
  {
   "cell_type": "code",
   "execution_count": 2,
   "metadata": {},
   "outputs": [
    {
     "data": {
      "text/plain": [
       "['e',\n",
       " 'ken',\n",
       " 'okey',\n",
       " 'az',\n",
       " 'shel',\n",
       " 'yesh',\n",
       " 'lo',\n",
       " 'ani',\n",
       " 'ze',\n",
       " 'et',\n",
       " 'ad',\n",
       " 'li',\n",
       " 'ata',\n",
       " 'mitaxat',\n",
       " 'hu',\n",
       " 'at',\n",
       " 'axshav',\n",
       " 'keilu',\n",
       " 'naxon',\n",
       " 'aval',\n",
       " 'mm',\n",
       " 'a',\n",
       " 'veaz',\n",
       " 'meal',\n",
       " 'lax']"
      ]
     },
     "execution_count": 2,
     "metadata": {},
     "output_type": "execute_result"
    }
   ],
   "source": [
    "neg = loadLex('non_words.txt') + loadLex('map_words.txt')\n",
    "spl_lem_types, spl_all_types, spl_lem = loadSpatialLex()\n",
    "mf_types = loadMFTypes(neg)\n",
    "mf_types"
   ]
  },
  {
   "cell_type": "markdown",
   "metadata": {},
   "source": [
    "## Analysis per group of terms and measures\n",
    "1. all measures operate at session level except where noted\n",
    "2. results per group of terms:\n",
    "  * overall significance\n",
    "  * significance per gender pair\n",
    "  * differences between gender pairs\n",
    "  * differences between individual genders (asymmetric measure KLDSim only)\n",
    "  * differences between roles (task level, asymmetric measure KLDSim only)"
   ]
  },
  {
   "cell_type": "markdown",
   "metadata": {},
   "source": [
    "### Spatial terms"
   ]
  },
  {
   "cell_type": "code",
   "execution_count": 3,
   "metadata": {},
   "outputs": [
    {
     "name": "stdout",
     "output_type": "stream",
     "text": [
      "Spatial Terms, distSim, overall 7.378786767779509e-06 +6.677950909276285 15\n",
      "\n",
      "                                f  m fm\n",
      "Spatial Terms, distSim, per gp  +  +  +\n",
      "\n",
      "                                 ff vs. mm ff vs. fm mm vs. fm\n",
      "Spatial Terms, distSim, gp comp.                              \n",
      "\n"
     ]
    }
   ],
   "source": [
    "kwargs = {\n",
    "    'types': spl_lem_types, 'typesID': 'ID_TYPES_SPL',\n",
    "    'neg': neg, 'negID': 'ID_NEG_STD',\n",
    "    'lem': spl_lem, 'lemID':'ID_LEM_SPL'\n",
    "}\n",
    "f = 'Spatial Terms, distSim'\n",
    "df = testSigF(distSim, kwargs=kwargs, fs=[f + ', overall'])\n",
    "print(testSigGP(distSim, kwargs=kwargs, fs=[f + ', per gp']), \n",
    "      end='\\n\\n')\n",
    "print(compareGP(distSim, kwargs=kwargs, fs=[f + ', gp comp.']), \n",
    "      end='\\n\\n')"
   ]
  },
  {
   "cell_type": "code",
   "execution_count": 4,
   "metadata": {},
   "outputs": [
    {
     "name": "stdout",
     "output_type": "stream",
     "text": [
      "Spatial Terms, KLDSim, overall 0.0020534884367687787 +3.719942854025464 15\n",
      "\n",
      "                               f    m fm\n",
      "Spatial Terms, KLDSim, per gp  +  (+)  +\n",
      "\n",
      "                                ff vs. mm ff vs. fm mm vs. fm\n",
      "Spatial Terms, KLDSim, gp comp.                              \n",
      "\n",
      "Spatial Terms, KLDSim, m vs. f (0.8793821788535847)   30\n",
      "\n",
      "Spatial Terms, KLDSim, d vs. f (0.5941862115899679)   62\n",
      "\n"
     ]
    }
   ],
   "source": [
    "# KLD (using pos to ensure fractions in distributions add up to 1)\n",
    "kwargs = {\n",
    "    'types': spl_lem_types, 'typesID': 'ID_TYPES_SPL',\n",
    "    'pos': spl_all_types, 'posID': 'ID_POS_SPL',\n",
    "    'neg': neg, 'negID': 'ID_NEG_STD',\n",
    "    'lem': spl_lem, 'lemID':'ID_LEM_SPL'\n",
    "}\n",
    "f = 'Spatial Terms, KLDSim'\n",
    "df = testSigF(KLDSim, kwargs=kwargs, fs=[f + ', overall'])\n",
    "print(testSigGP(KLDSim, kwargs=kwargs, fs=[f + ', per gp']), \n",
    "      end='\\n\\n')\n",
    "print(compareGP(KLDSim, kwargs=kwargs, fs=[f + ', gp comp.']), \n",
    "      end='\\n\\n')\n",
    "dfG = compareG_KLD(f + ', m vs. f', kwargs=kwargs)\n",
    "kwargs['tsk_or_ses'] = 'tsk'\n",
    "dfR = compareR_KLD(f + ', d vs. f', kwargs=kwargs)"
   ]
  },
  {
   "cell_type": "markdown",
   "metadata": {},
   "source": [
    "### Most frequent terms"
   ]
  },
  {
   "cell_type": "code",
   "execution_count": 5,
   "metadata": {},
   "outputs": [
    {
     "name": "stdout",
     "output_type": "stream",
     "text": [
      "Frequent Terms, distSim, overall 0.013940145353155778 +2.7826088569040803 15\n",
      "\n",
      "                                 f  m fm\n",
      "Frequent Terms, distSim, per gp  +  +   \n",
      "\n",
      "                                  ff vs. mm ff vs. fm mm vs. fm\n",
      "Frequent Terms, distSim, gp comp.                              \n",
      "\n"
     ]
    }
   ],
   "source": [
    "kwargs = {\n",
    "    'types': mf_types, 'typesID': 'ID_TYPES_MF',\n",
    "    'neg': neg, 'negID': 'ID_NEG_STD'\n",
    "}\n",
    "f = 'Frequent Terms, distSim'\n",
    "df = testSigF(distSim, kwargs=kwargs, fs=[f + ', overall'])\n",
    "print(testSigGP(distSim, kwargs=kwargs, fs=[f + ', per gp']), \n",
    "      end='\\n\\n')\n",
    "print(compareGP(distSim, kwargs=kwargs, fs=[f + ', gp comp.']), \n",
    "      end='\\n\\n')"
   ]
  },
  {
   "cell_type": "code",
   "execution_count": 6,
   "metadata": {},
   "outputs": [
    {
     "name": "stdout",
     "output_type": "stream",
     "text": [
      "Frequent Terms, KLDSim, overall 0.02320105307666085 +2.5276850639303547 15\n",
      "\n",
      "                                f  m fm\n",
      "Frequent Terms, KLDSim, per gp  +  +   \n",
      "\n",
      "                                 ff vs. mm ff vs. fm mm vs. fm\n",
      "Frequent Terms, KLDSim, gp comp.                   +         +\n",
      "\n",
      "Frequent Terms, KLDSim, m vs. f (0.49945852462968565)   30\n",
      "\n",
      "Frequent Terms, KLDSim, d vs. f (0.5225322849576497)   62\n",
      "\n"
     ]
    }
   ],
   "source": [
    "# KLD (using pos to ensure fractions in distributions add up to 1)\n",
    "kwargs = {\n",
    "    'types': mf_types, 'typesID': 'ID_TYPES_MF',\n",
    "    'pos': mf_types, 'posID': 'ID_POS_MF',\n",
    "    'neg': neg, 'negID': 'ID_NEG_STD'\n",
    "}\n",
    "f = 'Frequent Terms, KLDSim'\n",
    "df = testSigF(KLDSim, kwargs=kwargs, fs=[f + ', overall'])\n",
    "print(testSigGP(KLDSim, kwargs=kwargs, fs=[f + ', per gp']), \n",
    "      end='\\n\\n')\n",
    "print(compareGP(KLDSim, kwargs=kwargs, fs=[f + ', gp comp.']), \n",
    "      end='\\n\\n')\n",
    "dfG = compareG_KLD(f + ', m vs. f', kwargs=kwargs)\n",
    "kwargs['tsk_or_ses'] = 'tsk'\n",
    "dfR = compareR_KLD(f + ', d vs. f', kwargs=kwargs)"
   ]
  },
  {
   "cell_type": "markdown",
   "metadata": {},
   "source": [
    "### All terms\n",
    "(except non-words and map words)"
   ]
  },
  {
   "cell_type": "code",
   "execution_count": 7,
   "metadata": {},
   "outputs": [
    {
     "name": "stdout",
     "output_type": "stream",
     "text": [
      "All Terms, distSim, overall 1.035846940314289e-09 +13.310337652356731 15\n",
      "\n",
      "                            f  m fm\n",
      "All Terms, distSim, per gp  +  +  +\n",
      "\n",
      "                             ff vs. mm ff vs. fm mm vs. fm\n",
      "All Terms, distSim, gp comp.                              \n",
      "\n"
     ]
    }
   ],
   "source": [
    "kwargs = {'neg': neg, 'negID': 'ID_NEG_STD'}\n",
    "f = 'All Terms, distSim'\n",
    "df = testSigF(distSim, kwargs=kwargs, fs=[f + ', overall'])\n",
    "print(testSigGP(distSim, kwargs=kwargs, fs=[f + ', per gp']), \n",
    "      end='\\n\\n')\n",
    "print(compareGP(distSim, kwargs=kwargs, fs=[f + ', gp comp.']), \n",
    "      end='\\n\\n')"
   ]
  },
  {
   "cell_type": "code",
   "execution_count": 8,
   "metadata": {},
   "outputs": [
    {
     "name": "stdout",
     "output_type": "stream",
     "text": [
      "All Terms, KLDSim, overall 5.123135488503783e-09 +11.851605204248008 15\n",
      "\n",
      "                           f  m fm\n",
      "All Terms, KLDSim, per gp  +  +  +\n",
      "\n",
      "                            ff vs. mm ff vs. fm mm vs. fm\n",
      "All Terms, KLDSim, gp comp.                   +         +\n",
      "\n",
      "All Terms, KLDSim, m vs. f (0.7361838939646899)   30\n",
      "\n",
      "All Terms, KLDSim, d vs. f (0.6284570742041331)   62\n",
      "\n"
     ]
    }
   ],
   "source": [
    "# KLD (no pos needed since all terms used)\n",
    "kwargs = {'neg': neg, 'negID': 'ID_NEG_STD'}\n",
    "f = 'All Terms, KLDSim'\n",
    "df = testSigF(KLDSim, kwargs=kwargs, fs=[f + ', overall'])\n",
    "print(testSigGP(KLDSim, kwargs=kwargs, fs=[f + ', per gp']), \n",
    "      end='\\n\\n')\n",
    "print(compareGP(KLDSim, kwargs=kwargs, fs=[f + ', gp comp.']), \n",
    "      end='\\n\\n')\n",
    "dfG = compareG_KLD(f + ', m vs. f', kwargs=kwargs)\n",
    "kwargs['tsk_or_ses'] = 'tsk'\n",
    "dfR = compareR_KLD(f + ', d vs. f', kwargs=kwargs)"
   ]
  },
  {
   "cell_type": "code",
   "execution_count": null,
   "metadata": {},
   "outputs": [],
   "source": []
  },
  {
   "cell_type": "code",
   "execution_count": 9,
   "metadata": {},
   "outputs": [
    {
     "name": "stdout",
     "output_type": "stream",
     "text": [
      "Overall use of spatial terms, distSim 0.0005839638550630952 +4.339176929620489 15\n",
      "\n"
     ]
    }
   ],
   "source": [
    "# entrainment on percentage of spatial terms overall\n",
    "spl_lem_gnl = lambda t: 'spl' if t in spl_all_types else ''\n",
    "kwargs = {\n",
    "    'types': ['spl'], 'typesID': 'ID_TYPES_SPL_GNL',\n",
    "    'neg': neg, 'negID': 'ID_NEG_STD',\n",
    "    'lem': spl_lem_gnl, 'lemID':'ID_LEM_SPL_GNL'\n",
    "}\n",
    "df = testSigF(distSim, kwargs=kwargs, \n",
    "              fs=['Overall use of spatial terms, distSim'])"
   ]
  }
 ],
 "metadata": {
  "kernelspec": {
   "display_name": "Python 3",
   "language": "python",
   "name": "python3"
  },
  "language_info": {
   "codemirror_mode": {
    "name": "ipython",
    "version": 3
   },
   "file_extension": ".py",
   "mimetype": "text/x-python",
   "name": "python",
   "nbconvert_exporter": "python",
   "pygments_lexer": "ipython3",
   "version": "3.5.2"
  }
 },
 "nbformat": 4,
 "nbformat_minor": 2
}
